{
 "cells": [
  {
   "cell_type": "code",
   "execution_count": 1,
   "metadata": {},
   "outputs": [
    {
     "name": "stderr",
     "output_type": "stream",
     "text": [
      "C:\\Users\\tigju\\Anaconda3\\lib\\site-packages\\dask\\dataframe\\utils.py:14: FutureWarning: pandas.util.testing is deprecated. Use the functions in the public API at pandas.testing instead.\n",
      "  import pandas.util.testing as tm\n"
     ]
    },
    {
     "data": {
      "text/plain": [
       "Pipeline(memory=None,\n",
       "         steps=[('ordinalencoder',\n",
       "                 OrdinalEncoder(cols=['states'], drop_invariant=False,\n",
       "                                handle_missing='value', handle_unknown='value',\n",
       "                                mapping=[{'col': 'states',\n",
       "                                          'data_type': dtype('O'),\n",
       "                                          'mapping': Amazonas       1\n",
       "Para           2\n",
       "Mato Grosso    3\n",
       "Roraima        4\n",
       "Acre           5\n",
       "Rondonia       6\n",
       "Maranhao       7\n",
       "Tocantins      8\n",
       "Amapa          9\n",
       "NaN           -2\n",
       "dtype: int64}],\n",
       "                                return_df=True, verbose=0)),\n",
       "                ('xgbregressor',\n",
       "                 XGBRegressor(b...\n",
       "                              interaction_constraints=None,\n",
       "                              learning_rate=0.300000012, max_delta_step=0,\n",
       "                              max_depth=50, min_child_weight=1, missing=nan,\n",
       "                              monotone_constraints=None, n_estimators=300,\n",
       "                              n_jobs=-1, num_parallel_tree=1,\n",
       "                              objective='reg:squarederror', random_state=42,\n",
       "                              reg_alpha=0, reg_lambda=1, scale_pos_weight=1,\n",
       "                              subsample=1, tree_method=None,\n",
       "                              validate_parameters=False, verbosity=None))],\n",
       "         verbose=False)"
      ]
     },
     "execution_count": 1,
     "metadata": {},
     "output_type": "execute_result"
    }
   ],
   "source": [
    "import category_encoders as ce\n",
    "import numpy as np\n",
    "import pandas as pd\n",
    "from sklearn.impute import SimpleImputer\n",
    "from sklearn.pipeline import make_pipeline\n",
    "from xgboost import XGBRegressor\n",
    "# choose metrics MAE (because leaving some outliers)\n",
    "from sklearn.metrics import mean_absolute_error, r2_score\n",
    "\n",
    "# upload data\n",
    "df_2008_2018 = pd.read_csv('df_2008_2018.csv')\n",
    "  \n",
    "# train/val/test split timebased\n",
    "train = df_2008_2018[df_2008_2018['year'] <= 2015]\n",
    "val = df_2008_2018[df_2008_2018['year'] == 2016]\n",
    "test = df_2008_2018[df_2008_2018['year'] >= 2017]\n",
    "\n",
    "# round up targets\n",
    "train = train.round({\"lat\":4, \"lon\":4})\n",
    "val = val.round({'lat':4, 'lon':4})\n",
    "test = test.round({'lat':4, 'lon':4})\n",
    "\n",
    "# define target and features\n",
    "target1 = 'lat'\n",
    "target2 = 'lon'\n",
    "\n",
    "remove_feat = ['ano', 'view_date', 'uf', 'julday', 'class_name', 'publish_ye', 'gid', 'origin_id', 'mainclass', 'areakm_squared', 'pathrow', 'dsfnv', 'scene_id', 'geometry']\n",
    "features = train.drop(columns=[target1] + [target2] + remove_feat).columns.tolist()\n",
    "\n",
    "# split up X-matrix y-vector\n",
    "X_train = train[features]\n",
    "y_train_1 = train[target1]\n",
    "y_train_2 = train[target2]\n",
    "X_val = val[features]\n",
    "y_val_1 = val[target1]\n",
    "y_val_2 = val[target2]\n",
    "X_test = test[features]\n",
    "y_test_1 = test[target1]\n",
    "y_test_2 = test[target2]\n",
    "\n",
    "xgb1 = make_pipeline(\n",
    "    ce.OrdinalEncoder(),\n",
    "    XGBRegressor(n_estimators=200, random_state=42, n_jobs=-1, max_depth=50)\n",
    ")\n",
    "xgb2 = make_pipeline(\n",
    "    ce.OrdinalEncoder(),\n",
    "    XGBRegressor(n_estimators=200, random_state=42, n_jobs=-1, max_depth=50)\n",
    ")\n",
    "\n",
    "xgb1.fit(X_train, y_train_1)\n",
    "xgb2.fit(X_train, y_train_2)"
   ]
  },
  {
   "cell_type": "code",
   "execution_count": 2,
   "metadata": {},
   "outputs": [
    {
     "data": {
      "text/plain": [
       "['gb2.joblib']"
      ]
     },
     "execution_count": 2,
     "metadata": {},
     "output_type": "execute_result"
    }
   ],
   "source": [
    "from joblib import dump\n",
    "dump(xgb1, 'gb1.joblib', compress=True)\n",
    "dump(xgb2, 'gb2.joblib', compress=True)"
   ]
  },
  {
   "cell_type": "code",
   "execution_count": 42,
   "metadata": {},
   "outputs": [
    {
     "name": "stdout",
     "output_type": "stream",
     "text": [
      "joblib==0.14.1\n",
      "scikit-learn==0.22.2.post1\n",
      "category_encoders==2.1.0\n",
      "xgboost==1.0.2\n",
      "pandas==1.0.3\n",
      "numpy==1.16.5\n"
     ]
    }
   ],
   "source": [
    "print(f'joblib=={joblib.__version__}')\n",
    "print(f'scikit-learn=={sklearn.__version__}')\n",
    "print(f'category_encoders=={ce.__version__}')\n",
    "print(f'xgboost=={xgboost.__version__}')\n",
    "print(f'pandas=={pd.__version__}')\n",
    "print(f'numpy=={np.__version__}')"
   ]
  },
  {
   "cell_type": "code",
   "execution_count": null,
   "metadata": {},
   "outputs": [],
   "source": []
  },
  {
   "cell_type": "code",
   "execution_count": null,
   "metadata": {},
   "outputs": [],
   "source": []
  }
 ],
 "metadata": {
  "kernelspec": {
   "display_name": "Python 3",
   "language": "python",
   "name": "python3"
  },
  "language_info": {
   "codemirror_mode": {
    "name": "ipython",
    "version": 3
   },
   "file_extension": ".py",
   "mimetype": "text/x-python",
   "name": "python",
   "nbconvert_exporter": "python",
   "pygments_lexer": "ipython3",
   "version": "3.7.4"
  }
 },
 "nbformat": 4,
 "nbformat_minor": 4
}
